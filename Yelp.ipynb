{
 "cells": [
  {
   "cell_type": "code",
   "execution_count": 4,
   "metadata": {
    "collapsed": true
   },
   "outputs": [],
   "source": [
    "import requests\n",
    "import json\n",
    "import urllib"
   ]
  },
  {
   "cell_type": "code",
   "execution_count": 5,
   "metadata": {
    "collapsed": true
   },
   "outputs": [],
   "source": [
    "CLIENT_ID = \"ZRkwtqrqEh3M63fZwugKUg\"\n",
    "CLIENT_SECRET = \"QhBAZ03CPqOmlKE5DpXLtILlTWZHwJw9GtWKOLiNKnBYOuBBXBrVXS4R8SJGEqQp\"\n",
    "GRANT_TYPE = 'client_credentials'"
   ]
  },
  {
   "cell_type": "code",
   "execution_count": 9,
   "metadata": {
    "collapsed": false
   },
   "outputs": [],
   "source": [
    "url = 'https://api.yelp.com/oauth2/token'\n",
    "data = urllib.parse.urlencode({\n",
    "    'client_id': CLIENT_ID,\n",
    "    'client_secret': CLIENT_SECRET,\n",
    "    'grant_type': GRANT_TYPE,\n",
    "})\n",
    "headers = {\n",
    "    'content-type': 'application/x-www-form-urlencoded',\n",
    "}\n",
    "response = requests.request('POST', url, data=data, headers=headers)\n",
    "bearer_token = response.json()['access_token']"
   ]
  },
  {
   "cell_type": "code",
   "execution_count": 14,
   "metadata": {
    "collapsed": false
   },
   "outputs": [
    {
     "name": "stdout",
     "output_type": "stream",
     "text": [
      "{'businesses': [{'id': 'a-mano-san-francisco-2', 'name': 'a Mano', 'image_url': 'https://s3-media2.fl.yelpcdn.com/bphoto/_4dCSv3MuAhNjGbdGm3ibw/o.jpg', 'is_closed': False, 'url': 'https://www.yelp.com/biz/a-mano-san-francisco-2?adjust_creative=ZRkwtqrqEh3M63fZwugKUg&utm_campaign=yelp_api_v3&utm_medium=api_v3_business_search&utm_source=ZRkwtqrqEh3M63fZwugKUg', 'review_count': 156, 'categories': [{'alias': 'italian', 'title': 'Italian'}, {'alias': 'cocktailbars', 'title': 'Cocktail Bars'}], 'rating': 4.0, 'coordinates': {'latitude': 37.776963880538, 'longitude': -122.423868469312}, 'transactions': [], 'price': '$$', 'location': {'address1': '450 Hayes St', 'address2': None, 'address3': '', 'city': 'San Francisco', 'zip_code': '94102', 'country': 'US', 'state': 'CA', 'display_address': ['450 Hayes St', 'San Francisco, CA 94102']}, 'phone': '+14155067401', 'display_phone': '(415) 506-7401', 'distance': 2100.803628814}, {'id': 'k-elements-bbq-san-francisco-3', 'name': 'K-Elements BBQ', 'image_url': 'https://s3-media1.fl.yelpcdn.com/bphoto/DuAh3WTVXwZdd5m6kXCJ5g/o.jpg', 'is_closed': False, 'url': 'https://www.yelp.com/biz/k-elements-bbq-san-francisco-3?adjust_creative=ZRkwtqrqEh3M63fZwugKUg&utm_campaign=yelp_api_v3&utm_medium=api_v3_business_search&utm_source=ZRkwtqrqEh3M63fZwugKUg', 'review_count': 176, 'categories': [{'alias': 'korean', 'title': 'Korean'}, {'alias': 'bbq', 'title': 'Barbeque'}, {'alias': 'asianfusion', 'title': 'Asian Fusion'}], 'rating': 4.0, 'coordinates': {'latitude': 37.78227, 'longitude': -122.48244}, 'transactions': [], 'price': '$$', 'location': {'address1': '2140 Clement St', 'address2': '', 'address3': None, 'city': 'San Francisco', 'zip_code': '94121', 'country': 'US', 'state': 'CA', 'display_address': ['2140 Clement St', 'San Francisco, CA 94121']}, 'phone': '+14157801629', 'display_phone': '(415) 780-1629', 'distance': 4698.643226191999}, {'id': 'marlowe-san-francisco-2', 'name': 'Marlowe', 'image_url': 'https://s3-media3.fl.yelpcdn.com/bphoto/uweSiOf0XBB4BPk_ibHVyg/o.jpg', 'is_closed': False, 'url': 'https://www.yelp.com/biz/marlowe-san-francisco-2?adjust_creative=ZRkwtqrqEh3M63fZwugKUg&utm_campaign=yelp_api_v3&utm_medium=api_v3_business_search&utm_source=ZRkwtqrqEh3M63fZwugKUg', 'review_count': 2191, 'categories': [{'alias': 'newamerican', 'title': 'American (New)'}, {'alias': 'brasseries', 'title': 'Brasseries'}], 'rating': 4.0, 'coordinates': {'latitude': 37.7783200510611, 'longitude': -122.396771288052}, 'transactions': [], 'price': '$$', 'location': {'address1': '500 Brannan St', 'address2': '', 'address3': '', 'city': 'San Francisco', 'zip_code': '94107', 'country': 'US', 'state': 'CA', 'display_address': ['500 Brannan St', 'San Francisco, CA 94107']}, 'phone': '+14157771413', 'display_phone': '(415) 777-1413', 'distance': 3989.09439343}], 'total': 6023, 'region': {'center': {'latitude': 37.76089938976322, 'longitude': -122.43644714355469}}}\n"
     ]
    }
   ],
   "source": [
    "url = 'https://api.yelp.com/v3/businesses/search'\n",
    "    \n",
    "url_params = {\n",
    "    'term': 'dinner',\n",
    "    'location': 'San Francisco, CA',\n",
    "    'limit': 3\n",
    "}\n",
    "\n",
    "headers = {\n",
    "    'Authorization': 'Bearer %s' % bearer_token,\n",
    "}\n",
    "\n",
    "response = requests.request('GET', url, headers=headers, params=url_params)\n",
    "data = response.json()\n",
    "print(data)"
   ]
  },
  {
   "cell_type": "code",
   "execution_count": null,
   "metadata": {
    "collapsed": true
   },
   "outputs": [],
   "source": []
  }
 ],
 "metadata": {
  "kernelspec": {
   "display_name": "Python 3",
   "language": "python",
   "name": "python3"
  },
  "language_info": {
   "codemirror_mode": {
    "name": "ipython",
    "version": 3
   },
   "file_extension": ".py",
   "mimetype": "text/x-python",
   "name": "python",
   "nbconvert_exporter": "python",
   "pygments_lexer": "ipython3",
   "version": "3.6.0"
  }
 },
 "nbformat": 4,
 "nbformat_minor": 2
}
