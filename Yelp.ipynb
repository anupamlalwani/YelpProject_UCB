{
 "cells": [
  {
   "cell_type": "code",
   "execution_count": 4,
   "metadata": {
    "collapsed": true
   },
   "outputs": [],
   "source": [
    "import requests\n",
    "import json\n",
    "import urllib"
   ]
  },
  {
   "cell_type": "code",
   "execution_count": 5,
   "metadata": {
    "collapsed": true
   },
   "outputs": [],
   "source": [
    "CLIENT_ID = \"ZRkwtqrqEh3M63fZwugKUg\"\n",
    "CLIENT_SECRET = \"QhBAZ03CPqOmlKE5DpXLtILlTWZHwJw9GtWKOLiNKnBYOuBBXBrVXS4R8SJGEqQp\"\n",
    "GRANT_TYPE = 'client_credentials'"
   ]
  },
  {
   "cell_type": "code",
   "execution_count": 9,
   "metadata": {
    "collapsed": false
   },
   "outputs": [],
   "source": [
    "url = 'https://api.yelp.com/oauth2/token'\n",
    "data = urllib.parse.urlencode({\n",
    "    'client_id': CLIENT_ID,\n",
    "    'client_secret': CLIENT_SECRET,\n",
    "    'grant_type': GRANT_TYPE,\n",
    "})\n",
    "headers = {\n",
    "    'content-type': 'application/x-www-form-urlencoded',\n",
    "}\n",
    "response = requests.request('POST', url, data=data, headers=headers)\n",
    "bearer_token = response.json()['access_token']"
   ]
  },
  {
   "cell_type": "code",
   "execution_count": 34,
   "metadata": {
    "collapsed": false
   },
   "outputs": [
    {
     "name": "stdout",
     "output_type": "stream",
     "text": [
      "The Pork Exchange\n",
      "https://www.yelp.com/biz/the-pork-exchange-san-francisco?adjust_creative=ZRkwtqrqEh3M63fZwugKUg&utm_campaign=yelp_api_v3&utm_medium=api_v3_business_search&utm_source=ZRkwtqrqEh3M63fZwugKUg\n",
      "MAC'D\n",
      "https://www.yelp.com/biz/macd-san-francisco?adjust_creative=ZRkwtqrqEh3M63fZwugKUg&utm_campaign=yelp_api_v3&utm_medium=api_v3_business_search&utm_source=ZRkwtqrqEh3M63fZwugKUg\n",
      "SF Kebab\n",
      "https://www.yelp.com/biz/sf-kebab-san-francisco-2?adjust_creative=ZRkwtqrqEh3M63fZwugKUg&utm_campaign=yelp_api_v3&utm_medium=api_v3_business_search&utm_source=ZRkwtqrqEh3M63fZwugKUg\n",
      "Parker Cafe\n",
      "https://www.yelp.com/biz/parker-cafe-san-francisco-2?adjust_creative=ZRkwtqrqEh3M63fZwugKUg&utm_campaign=yelp_api_v3&utm_medium=api_v3_business_search&utm_source=ZRkwtqrqEh3M63fZwugKUg\n",
      "RT Rotisserie\n",
      "https://www.yelp.com/biz/rt-rotisserie-san-francisco?adjust_creative=ZRkwtqrqEh3M63fZwugKUg&utm_campaign=yelp_api_v3&utm_medium=api_v3_business_search&utm_source=ZRkwtqrqEh3M63fZwugKUg\n",
      "Chef Li's Cafe\n",
      "https://www.yelp.com/biz/chef-lis-cafe-san-francisco-3?adjust_creative=ZRkwtqrqEh3M63fZwugKUg&utm_campaign=yelp_api_v3&utm_medium=api_v3_business_search&utm_source=ZRkwtqrqEh3M63fZwugKUg\n",
      "Francisca's\n",
      "https://www.yelp.com/biz/franciscas-san-francisco?adjust_creative=ZRkwtqrqEh3M63fZwugKUg&utm_campaign=yelp_api_v3&utm_medium=api_v3_business_search&utm_source=ZRkwtqrqEh3M63fZwugKUg\n",
      "Sue's Kitchen\n",
      "https://www.yelp.com/biz/sues-kitchen-san-francisco?adjust_creative=ZRkwtqrqEh3M63fZwugKUg&utm_campaign=yelp_api_v3&utm_medium=api_v3_business_search&utm_source=ZRkwtqrqEh3M63fZwugKUg\n",
      "Duna\n",
      "https://www.yelp.com/biz/duna-san-francisco?adjust_creative=ZRkwtqrqEh3M63fZwugKUg&utm_campaign=yelp_api_v3&utm_medium=api_v3_business_search&utm_source=ZRkwtqrqEh3M63fZwugKUg\n",
      "Ike's Love & Sandwiches\n",
      "https://www.yelp.com/biz/ikes-love-and-sandwiches-san-francisco-3?adjust_creative=ZRkwtqrqEh3M63fZwugKUg&utm_campaign=yelp_api_v3&utm_medium=api_v3_business_search&utm_source=ZRkwtqrqEh3M63fZwugKUg\n",
      "Robin\n",
      "https://www.yelp.com/biz/robin-san-francisco?adjust_creative=ZRkwtqrqEh3M63fZwugKUg&utm_campaign=yelp_api_v3&utm_medium=api_v3_business_search&utm_source=ZRkwtqrqEh3M63fZwugKUg\n",
      "Poke Life\n",
      "https://www.yelp.com/biz/poke-life-san-francisco?adjust_creative=ZRkwtqrqEh3M63fZwugKUg&utm_campaign=yelp_api_v3&utm_medium=api_v3_business_search&utm_source=ZRkwtqrqEh3M63fZwugKUg\n",
      "Sababa\n",
      "https://www.yelp.com/biz/sababa-san-francisco-2?adjust_creative=ZRkwtqrqEh3M63fZwugKUg&utm_campaign=yelp_api_v3&utm_medium=api_v3_business_search&utm_source=ZRkwtqrqEh3M63fZwugKUg\n",
      "Khamsa\n",
      "https://www.yelp.com/biz/khamsa-san-francisco?adjust_creative=ZRkwtqrqEh3M63fZwugKUg&utm_campaign=yelp_api_v3&utm_medium=api_v3_business_search&utm_source=ZRkwtqrqEh3M63fZwugKUg\n",
      "The Grove - Design District\n",
      "https://www.yelp.com/biz/the-grove-design-district-san-francisco-3?adjust_creative=ZRkwtqrqEh3M63fZwugKUg&utm_campaign=yelp_api_v3&utm_medium=api_v3_business_search&utm_source=ZRkwtqrqEh3M63fZwugKUg\n",
      "Alta\n",
      "https://www.yelp.com/biz/alta-san-francisco?adjust_creative=ZRkwtqrqEh3M63fZwugKUg&utm_campaign=yelp_api_v3&utm_medium=api_v3_business_search&utm_source=ZRkwtqrqEh3M63fZwugKUg\n",
      "The New Spot On Polk\n",
      "https://www.yelp.com/biz/the-new-spot-on-polk-san-francisco-2?adjust_creative=ZRkwtqrqEh3M63fZwugKUg&utm_campaign=yelp_api_v3&utm_medium=api_v3_business_search&utm_source=ZRkwtqrqEh3M63fZwugKUg\n",
      "Petit Marlowe\n",
      "https://www.yelp.com/biz/petit-marlowe-san-francisco-4?adjust_creative=ZRkwtqrqEh3M63fZwugKUg&utm_campaign=yelp_api_v3&utm_medium=api_v3_business_search&utm_source=ZRkwtqrqEh3M63fZwugKUg\n",
      "Barcino\n",
      "https://www.yelp.com/biz/barcino-san-francisco-2?adjust_creative=ZRkwtqrqEh3M63fZwugKUg&utm_campaign=yelp_api_v3&utm_medium=api_v3_business_search&utm_source=ZRkwtqrqEh3M63fZwugKUg\n",
      "Kuma Sushi + Sake\n",
      "https://www.yelp.com/biz/kuma-sushi-sake-san-francisco?adjust_creative=ZRkwtqrqEh3M63fZwugKUg&utm_campaign=yelp_api_v3&utm_medium=api_v3_business_search&utm_source=ZRkwtqrqEh3M63fZwugKUg\n",
      "Sapporo Ramen Izakaya\n",
      "https://www.yelp.com/biz/sapporo-ramen-izakaya-san-francisco-2?adjust_creative=ZRkwtqrqEh3M63fZwugKUg&utm_campaign=yelp_api_v3&utm_medium=api_v3_business_search&utm_source=ZRkwtqrqEh3M63fZwugKUg\n",
      "Namu Stonepot\n",
      "https://www.yelp.com/biz/namu-stonepot-san-francisco-2?adjust_creative=ZRkwtqrqEh3M63fZwugKUg&utm_campaign=yelp_api_v3&utm_medium=api_v3_business_search&utm_source=ZRkwtqrqEh3M63fZwugKUg\n",
      "El Picacho\n",
      "https://www.yelp.com/biz/el-picacho-san-francisco?adjust_creative=ZRkwtqrqEh3M63fZwugKUg&utm_campaign=yelp_api_v3&utm_medium=api_v3_business_search&utm_source=ZRkwtqrqEh3M63fZwugKUg\n",
      "Ritual Coffee Roasters\n",
      "https://www.yelp.com/biz/ritual-coffee-roasters-san-francisco-7?adjust_creative=ZRkwtqrqEh3M63fZwugKUg&utm_campaign=yelp_api_v3&utm_medium=api_v3_business_search&utm_source=ZRkwtqrqEh3M63fZwugKUg\n",
      "Cochinita\n",
      "https://www.yelp.com/biz/cochinita-san-francisco?adjust_creative=ZRkwtqrqEh3M63fZwugKUg&utm_campaign=yelp_api_v3&utm_medium=api_v3_business_search&utm_source=ZRkwtqrqEh3M63fZwugKUg\n",
      "Cheesesteak on Clay\n",
      "https://www.yelp.com/biz/cheesesteak-on-clay-san-francisco?adjust_creative=ZRkwtqrqEh3M63fZwugKUg&utm_campaign=yelp_api_v3&utm_medium=api_v3_business_search&utm_source=ZRkwtqrqEh3M63fZwugKUg\n",
      "Asian Box\n",
      "https://www.yelp.com/biz/asian-box-san-francisco-4?adjust_creative=ZRkwtqrqEh3M63fZwugKUg&utm_campaign=yelp_api_v3&utm_medium=api_v3_business_search&utm_source=ZRkwtqrqEh3M63fZwugKUg\n",
      "Enter The Cafe\n",
      "https://www.yelp.com/biz/enter-the-cafe-san-francisco-4?adjust_creative=ZRkwtqrqEh3M63fZwugKUg&utm_campaign=yelp_api_v3&utm_medium=api_v3_business_search&utm_source=ZRkwtqrqEh3M63fZwugKUg\n",
      "Big Fish Little Fish\n",
      "https://www.yelp.com/biz/big-fish-little-fish-san-francisco?adjust_creative=ZRkwtqrqEh3M63fZwugKUg&utm_campaign=yelp_api_v3&utm_medium=api_v3_business_search&utm_source=ZRkwtqrqEh3M63fZwugKUg\n",
      "Pot & Noodle\n",
      "https://www.yelp.com/biz/pot-and-noodle-san-francisco-2?adjust_creative=ZRkwtqrqEh3M63fZwugKUg&utm_campaign=yelp_api_v3&utm_medium=api_v3_business_search&utm_source=ZRkwtqrqEh3M63fZwugKUg\n",
      "Lapats Thai Noodles Bar\n",
      "https://www.yelp.com/biz/lapats-thai-noodles-bar-san-francisco?adjust_creative=ZRkwtqrqEh3M63fZwugKUg&utm_campaign=yelp_api_v3&utm_medium=api_v3_business_search&utm_source=ZRkwtqrqEh3M63fZwugKUg\n",
      "Crown & Acre ​\n",
      "https://www.yelp.com/biz/crown-and-acre-san-francisco?adjust_creative=ZRkwtqrqEh3M63fZwugKUg&utm_campaign=yelp_api_v3&utm_medium=api_v3_business_search&utm_source=ZRkwtqrqEh3M63fZwugKUg\n",
      "General Tso Kitchen\n",
      "https://www.yelp.com/biz/general-tso-kitchen-san-francisco?adjust_creative=ZRkwtqrqEh3M63fZwugKUg&utm_campaign=yelp_api_v3&utm_medium=api_v3_business_search&utm_source=ZRkwtqrqEh3M63fZwugKUg\n",
      "Mint Greenhouse Eatery\n",
      "https://www.yelp.com/biz/mint-greenhouse-eatery-san-francisco?adjust_creative=ZRkwtqrqEh3M63fZwugKUg&utm_campaign=yelp_api_v3&utm_medium=api_v3_business_search&utm_source=ZRkwtqrqEh3M63fZwugKUg\n",
      "B55 Craft House & Kitchen\n",
      "https://www.yelp.com/biz/b55-craft-house-and-kitchen-san-francisco-2?adjust_creative=ZRkwtqrqEh3M63fZwugKUg&utm_campaign=yelp_api_v3&utm_medium=api_v3_business_search&utm_source=ZRkwtqrqEh3M63fZwugKUg\n",
      "Beanstalk Café\n",
      "https://www.yelp.com/biz/beanstalk-caf%C3%A9-san-francisco-7?adjust_creative=ZRkwtqrqEh3M63fZwugKUg&utm_campaign=yelp_api_v3&utm_medium=api_v3_business_search&utm_source=ZRkwtqrqEh3M63fZwugKUg\n",
      "Ardiana\n",
      "https://www.yelp.com/biz/ardiana-san-francisco?adjust_creative=ZRkwtqrqEh3M63fZwugKUg&utm_campaign=yelp_api_v3&utm_medium=api_v3_business_search&utm_source=ZRkwtqrqEh3M63fZwugKUg\n",
      "Limón Rotisserie Food Truck\n",
      "https://www.yelp.com/biz/lim%C3%B3n-rotisserie-food-truck-san-francisco?adjust_creative=ZRkwtqrqEh3M63fZwugKUg&utm_campaign=yelp_api_v3&utm_medium=api_v3_business_search&utm_source=ZRkwtqrqEh3M63fZwugKUg\n",
      "Yum Yum Sushi House\n",
      "https://www.yelp.com/biz/yum-yum-sushi-house-san-francisco?adjust_creative=ZRkwtqrqEh3M63fZwugKUg&utm_campaign=yelp_api_v3&utm_medium=api_v3_business_search&utm_source=ZRkwtqrqEh3M63fZwugKUg\n",
      "Roma Antica\n",
      "https://www.yelp.com/biz/roma-antica-san-francisco-3?adjust_creative=ZRkwtqrqEh3M63fZwugKUg&utm_campaign=yelp_api_v3&utm_medium=api_v3_business_search&utm_source=ZRkwtqrqEh3M63fZwugKUg\n",
      "J Bird Chicken\n",
      "https://www.yelp.com/biz/j-bird-chicken-san-francisco?adjust_creative=ZRkwtqrqEh3M63fZwugKUg&utm_campaign=yelp_api_v3&utm_medium=api_v3_business_search&utm_source=ZRkwtqrqEh3M63fZwugKUg\n",
      "Enough Tea & Coffee\n",
      "https://www.yelp.com/biz/enough-tea-and-coffee-san-francisco?adjust_creative=ZRkwtqrqEh3M63fZwugKUg&utm_campaign=yelp_api_v3&utm_medium=api_v3_business_search&utm_source=ZRkwtqrqEh3M63fZwugKUg\n",
      "Pesce e Riso\n",
      "https://www.yelp.com/biz/pesce-e-riso-san-francisco?adjust_creative=ZRkwtqrqEh3M63fZwugKUg&utm_campaign=yelp_api_v3&utm_medium=api_v3_business_search&utm_source=ZRkwtqrqEh3M63fZwugKUg\n",
      "Norcina\n",
      "https://www.yelp.com/biz/norcina-san-francisco?adjust_creative=ZRkwtqrqEh3M63fZwugKUg&utm_campaign=yelp_api_v3&utm_medium=api_v3_business_search&utm_source=ZRkwtqrqEh3M63fZwugKUg\n",
      "leCupboard Cafe\n",
      "https://www.yelp.com/biz/lecupboard-cafe-san-francisco?adjust_creative=ZRkwtqrqEh3M63fZwugKUg&utm_campaign=yelp_api_v3&utm_medium=api_v3_business_search&utm_source=ZRkwtqrqEh3M63fZwugKUg\n",
      "Kaiju Cooks\n",
      "https://www.yelp.com/biz/kaiju-cooks-san-francisco?adjust_creative=ZRkwtqrqEh3M63fZwugKUg&utm_campaign=yelp_api_v3&utm_medium=api_v3_business_search&utm_source=ZRkwtqrqEh3M63fZwugKUg\n",
      "Wok This Way\n",
      "https://www.yelp.com/biz/wok-this-way-san-francisco-2?adjust_creative=ZRkwtqrqEh3M63fZwugKUg&utm_campaign=yelp_api_v3&utm_medium=api_v3_business_search&utm_source=ZRkwtqrqEh3M63fZwugKUg\n",
      "Hamilton Fog\n",
      "https://www.yelp.com/biz/hamilton-fog-san-francisco-2?adjust_creative=ZRkwtqrqEh3M63fZwugKUg&utm_campaign=yelp_api_v3&utm_medium=api_v3_business_search&utm_source=ZRkwtqrqEh3M63fZwugKUg\n",
      "Mission Asia Noodle\n",
      "https://www.yelp.com/biz/mission-asia-noodle-san-francisco?adjust_creative=ZRkwtqrqEh3M63fZwugKUg&utm_campaign=yelp_api_v3&utm_medium=api_v3_business_search&utm_source=ZRkwtqrqEh3M63fZwugKUg\n",
      "Gott's Roadside\n",
      "https://www.yelp.com/biz/gotts-roadside-san-francisco-5?adjust_creative=ZRkwtqrqEh3M63fZwugKUg&utm_campaign=yelp_api_v3&utm_medium=api_v3_business_search&utm_source=ZRkwtqrqEh3M63fZwugKUg\n"
     ]
    }
   ],
   "source": [
    "url = 'https://api.yelp.com/v3/businesses/search'\n",
    "    \n",
    "url_params = {\n",
    "    'term': 'restaurants',\n",
    "    'location': 'San Francisco, CA',\n",
    "    'limit': 50, #max limit\n",
    "    'attributes': 'hot_and_new'\n",
    "}\n",
    "\n",
    "headers = {\n",
    "    'Authorization': 'Bearer %s' % bearer_token,\n",
    "}\n",
    "\n",
    "response = requests.request('GET', url, headers=headers, params=url_params)\n",
    "data = response.json()\n",
    "for business in data[\"businesses\"]:\n",
    "    print(business[\"name\"])\n",
    "    print(business[\"url\"])"
   ]
  },
  {
   "cell_type": "code",
   "execution_count": null,
   "metadata": {
    "collapsed": true
   },
   "outputs": [],
   "source": []
  }
 ],
 "metadata": {
  "kernelspec": {
   "display_name": "Python 3",
   "language": "python",
   "name": "python3"
  },
  "language_info": {
   "codemirror_mode": {
    "name": "ipython",
    "version": 3
   },
   "file_extension": ".py",
   "mimetype": "text/x-python",
   "name": "python",
   "nbconvert_exporter": "python",
   "pygments_lexer": "ipython3",
   "version": "3.6.0"
  }
 },
 "nbformat": 4,
 "nbformat_minor": 2
}
