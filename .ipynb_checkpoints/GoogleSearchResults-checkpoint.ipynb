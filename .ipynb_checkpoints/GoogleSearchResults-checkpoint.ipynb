{
 "cells": [
  {
   "cell_type": "code",
   "execution_count": null,
   "metadata": {
    "collapsed": true
   },
   "outputs": [],
   "source": [
    "import requests\n",
    "import os\n",
    "from bs4 import BeautifulSoup"
   ]
  },
  {
   "cell_type": "code",
   "execution_count": null,
   "metadata": {
    "collapsed": false
   },
   "outputs": [],
   "source": [
    "url_list = [\n",
    "    \"https://www.google.com/search?q=site%3Awww.yelp.com+CLOSED+restaurants+san+francisco\",\n",
    "    \"https://www.google.com/search?q=site:www.yelp.com+CLOSED+restaurants+san+francisco&ei=tYqdWYHhH8Tk0gLf3K3QCQ&start=10&sa=N&biw=1471&bih=798\",\n",
    "    \"https://www.google.com/search?q=site:www.yelp.com+CLOSED+restaurants+san+francisco&ei=eo2dWZHDJcGX0wLNxra4CQ&start=20&sa=N&biw=1471&bih=798\",\n",
    "    \"https://www.google.com/search?q=site:www.yelp.com+CLOSED+restaurants+san+francisco&ei=hI2dWaXBF-OM0gKwu6vYCQ&start=30&sa=N&biw=1471&bih=798\",\n",
    "    \"https://www.google.com/search?q=site:www.yelp.com+CLOSED+restaurants+san+francisco&ei=no2dWdXBC8i_0wLXg7SgAg&start=40&sa=N&biw=1471&bih=798\",\n",
    "    \"https://www.google.com/search?q=site:www.yelp.com+CLOSED+restaurants+san+francisco&ei=rI2dWeH9IsSh0wLv_4SACQ&start=50&sa=N&biw=1471&bih=798\",\n",
    "    \"https://www.google.com/search?q=site:www.yelp.com+CLOSED+restaurants+san+francisco&ei=t42dWbbnAqSJ0gLC5qSICQ&start=60&sa=N&biw=1471&bih=798\",\n",
    "    \"https://www.google.com/search?q=site:www.yelp.com+CLOSED+restaurants+san+francisco&ei=v42dWZ3FIOOR0gL-5YOgBQ&start=70&sa=N&biw=1471&bih=798\",\n",
    "    \"https://www.google.com/search?q=site:www.yelp.com+CLOSED+restaurants+san+francisco&ei=zo2dWavTBsqh_wSXw4iwCQ&start=80&sa=N&biw=1471&bih=798\",\n",
    "    \"https://www.google.com/search?q=site:www.yelp.com+CLOSED+restaurants+san+francisco&ei=2I2dWc6KDeGP0gL7jq-ACg&start=90&sa=N&biw=1471&bih=798\",\n",
    "    \"https://www.google.com/search?q=site:www.yelp.com+CLOSED+restaurants+san+francisco&ei=4Y2dWdCfBoeD0gK78bbACQ&start=100&sa=N&biw=1471&bih=798\",\n",
    "    \"https://www.google.com/search?q=site:www.yelp.com+CLOSED+restaurants+san+francisco&ei=642dWerELYfe0gL0wIjoCA&start=110&sa=N&biw=1471&bih=798\",\n",
    "    \"https://www.google.com/search?q=site:www.yelp.com+CLOSED+restaurants+san+francisco&ei=KY6dWeGHCqaa0gLfzaywBQ&start=120&sa=N&biw=1471&bih=798\",\n",
    "    \"https://www.google.com/search?q=site:www.yelp.com+CLOSED+restaurants+san+francisco&ei=NI6dWZ64EaiJ0wLav6b4BA&start=130&sa=N&biw=1471&bih=798\",\n",
    "    \"https://www.google.com/search?q=site:www.yelp.com+CLOSED+restaurants+san+francisco&ei=nJCdWa3SJ8es0gLuibbwCQ&start=140&sa=N&biw=1471&bih=798\",\n",
    "    \"https://www.google.com/search?q=site:www.yelp.com+CLOSED+restaurants+san+francisco&ei=sJCdWd-1Fcjm0gL6j66gCQ&start=150&sa=N&biw=1471&bih=798\",\n",
    "    \"https://www.google.com/search?q=site:www.yelp.com+CLOSED+restaurants+san+francisco&ei=upCdWZvHJMub0gK6n5fYBw&start=160&sa=N&biw=1471&bih=798\",\n",
    "    \"https://www.google.com/search?q=site:www.yelp.com+CLOSED+restaurants+san+francisco&ei=xpCdWeneAcuA0wK_wqHgCA&start=170&sa=N&biw=1471&bih=798\",\n",
    "    \"https://www.google.com/search?q=site:www.yelp.com+CLOSED+restaurants+san+francisco&ei=0JCdWYHCOIiF0wKj96SwBQ&start=180&sa=N&biw=1471&bih=798\",\n",
    "    \"https://www.google.com/search?q=site:www.yelp.com+CLOSED+restaurants+san+francisco&ei=25CdWbPUHOeX0wL1sbqICQ&start=190&sa=N&biw=1471&bih=798\",\n",
    "    \"https://www.google.com/search?q=site:www.yelp.com+CLOSED+restaurants+san+francisco&ei=55CdWeWVCeau0gKgpJHgCQ&start=200&sa=N&biw=1471&bih=798\",\n",
    "    \"https://www.google.com/search?q=site:www.yelp.com+CLOSED+restaurants+san+francisco&ei=85CdWZrvJamL0wLZ-aGYCQ&start=210&sa=N&biw=1471&bih=798\",\n",
    "    \"https://www.google.com/search?q=site:www.yelp.com+CLOSED+restaurants+san+francisco&ei=Q5GdWaCLIcuU0wK_4o-4Aw&start=220&sa=N&biw=1471&bih=798\",\n",
    "    \"https://www.google.com/search?q=site:www.yelp.com+CLOSED+restaurants+san+francisco&ei=VZGdWf76K6GB0gLk_7iwBg&start=230&sa=N&biw=1471&bih=798\",\n",
    "    \"https://www.google.com/search?q=site:www.yelp.com+CLOSED+restaurants+san+francisco&ei=Y5GdWYjvNcWa0gKf373ACQ&start=240&sa=N&biw=1471&bih=798\",\n",
    "    \"https://www.google.com/search?q=site:www.yelp.com+CLOSED+restaurants+san+francisco&ei=b5GdWdquC6rX0gK7m6mICQ&start=250&sa=N&biw=1471&bih=798\",\n",
    "    \"https://www.google.com/search?q=site:www.yelp.com+CLOSED+restaurants+san+francisco&ei=epGdWenlNOWf0wK-mZ-gCQ&start=260&sa=N&biw=1471&bih=798\",\n",
    "    \"https://www.google.com/search?q=site:www.yelp.com+CLOSED+restaurants+san+francisco&ei=kZGdWfbcC4qb0gLj4q24CQ&start=270&sa=N&biw=1471&bih=798\",\n",
    "    \"https://www.google.com/search?q=site:www.yelp.com+CLOSED+restaurants+san+francisco&ei=nJGdWYKJDceM0wKi8JOICQ&start=280&sa=N&biw=1471&bih=798\",\n",
    "    \"https://www.google.com/search?q=site:www.yelp.com+CLOSED+restaurants+san+francisco&ei=rZGdWei7Gsrb0gLewbKoCQ&start=290&sa=N&biw=1471&bih=798\",\n",
    "    \"https://www.google.com/search?q=site:www.yelp.com+CLOSED+restaurants+san+francisco&ei=uZGdWav7GIKP0gKy8qmoCQ&start=300&sa=N&biw=1471&bih=798\"\n",
    "]"
   ]
  },
  {
   "cell_type": "code",
   "execution_count": null,
   "metadata": {
    "collapsed": false
   },
   "outputs": [],
   "source": [
    "websites = []\n",
    "for url in url_list:\n",
    "    page = requests.get(url)\n",
    "    soup = BeautifulSoup(page.text, \"lxml\")\n",
    "    links = soup.find_all(\"a\", href=True)\n",
    "    for link in links:\n",
    "        href = link[\"href\"]\n",
    "        if \"https://www.yelp.com/biz/\" in href:\n",
    "            stuff = href.split(\":\")\n",
    "            if len(stuff) > 4:\n",
    "                url = stuff[4].replace('//','https://')\n",
    "                url = url.replace('%252Bsite','')\n",
    "                websites.append(url)"
   ]
  },
  {
   "cell_type": "code",
   "execution_count": null,
   "metadata": {
    "collapsed": false
   },
   "outputs": [],
   "source": [
    "websites"
   ]
  },
  {
   "cell_type": "code",
   "execution_count": null,
   "metadata": {
    "collapsed": false
   },
   "outputs": [],
   "source": [
    "root_path = os.getcwd()\n",
    "output = os.path.join(root_path, 'yelp_closed_biz.txt')\n",
    "with open(output, 'w') as fh:\n",
    "    for website in websites:\n",
    "        fh.write(website)\n",
    "        fh.write('\\n')\n"
   ]
  },
  {
   "cell_type": "code",
   "execution_count": null,
   "metadata": {
    "collapsed": true
   },
   "outputs": [],
   "source": []
  }
 ],
 "metadata": {
  "kernelspec": {
   "display_name": "Python 3",
   "language": "python",
   "name": "python3"
  },
  "language_info": {
   "codemirror_mode": {
    "name": "ipython",
    "version": 3
   },
   "file_extension": ".py",
   "mimetype": "text/x-python",
   "name": "python",
   "nbconvert_exporter": "python",
   "pygments_lexer": "ipython3",
   "version": "3.6.0"
  }
 },
 "nbformat": 4,
 "nbformat_minor": 2
}
